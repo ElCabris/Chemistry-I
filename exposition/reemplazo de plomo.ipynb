{
 "cells": [
  {
   "cell_type": "markdown",
   "id": "740a6da2-39cc-484b-b9a1-43a9e56b28be",
   "metadata": {},
   "source": [
    "# Simulación de Perovskitas con reemplazo de plomo\n",
    "\n",
    "La siguiente simulación está enfocada en estudiar los efectos del reemplazo del átomos de plomo (Pb) en la estructura cristalina de una perovskita, un material clave en aplicaciones como celdas solares. Para lograr esto, se utiliza herramientas computacionales como: **Materials Project**, **pymatgen** y **ASE**, lo que nos permite obtener estructuras cristalinas de alta calidad, modificarlas y realizar cálculos energéticos para entender cómo varían las propiedades del material."
   ]
  },
  {
   "cell_type": "code",
   "execution_count": 48,
   "id": "b3855685-75f1-40b5-b196-d855d130ae94",
   "metadata": {},
   "outputs": [],
   "source": [
    "from ase import Atoms\n",
    "from ase.build import bulk\n",
    "from ase.visualize import view\n",
    "from mp_api.client import MPRester\n",
    "from ase.calculators.emt import EMT\n",
    "from pymatgen.io.ase import AseAtomsAdaptor\n",
    "from ase.calculators.lj import LennardJones\n",
    "import os\n",
    "from dotenv import load_dotenv"
   ]
  },
  {
   "cell_type": "code",
   "execution_count": 35,
   "id": "74df485e-3bc7-48ed-9960-df101489392b",
   "metadata": {},
   "outputs": [],
   "source": [
    "# optención de la API_KEY\n",
    "load_dotenv()\n",
    "API_KEY = os.getenv('API_KEY')"
   ]
  },
  {
   "cell_type": "markdown",
   "id": "5a29d938-5125-4e9f-9643-5d7c06fc54ed",
   "metadata": {},
   "source": [
    "## Acceso a Matrials Project\n",
    "\n",
    "Se utiliza la base de datos **Materials Project** para obtener la estructura de una perovskita que contiene plomo, en este caso el material TiPbO3, el plomo es fundamental para mantener las propiedades electónicas del material, y al reemplazarlo por el estaño, podemos observar cambios en la estructura que pueeden influir en el rendimiento de las celdas solares. "
   ]
  },
  {
   "cell_type": "code",
   "execution_count": 19,
   "id": "d3fd66d6-6e50-4dfe-880e-5b31e2726afa",
   "metadata": {},
   "outputs": [],
   "source": [
    "mpr = MPRester(API_KEY)"
   ]
  },
  {
   "cell_type": "code",
   "execution_count": 22,
   "id": "1d6080fa-bb39-4747-a82d-c519fa634b46",
   "metadata": {},
   "outputs": [
    {
     "name": "stderr",
     "output_type": "stream",
     "text": [
      "Retrieving MaterialsDoc documents: 100%|████████████████████████████████████████████████████████████████████████████████████████████████████████████████████| 1/1 [00:00<00:00, 14563.56it/s]\n"
     ]
    }
   ],
   "source": [
    "material_id = \"mp-19845\"\n",
    "structure = mpr.get_structure_by_material_id(material_id)"
   ]
  },
  {
   "cell_type": "code",
   "execution_count": 23,
   "id": "99e2738b-0ce5-4a6d-96ed-c8be27e0f65b",
   "metadata": {},
   "outputs": [
    {
     "data": {
      "text/plain": [
       "Structure Summary\n",
       "Lattice\n",
       "    abc : 3.969049 3.969049 3.969049\n",
       " angles : 90.0 90.0 90.0\n",
       " volume : 62.52581792285582\n",
       "      A : 3.969049 0.0 0.0\n",
       "      B : 0.0 3.969049 0.0\n",
       "      C : 0.0 0.0 3.969049\n",
       "    pbc : True True True\n",
       "PeriodicSite: Ti (1.985, 1.985, 1.985) [0.5, 0.5, 0.5]\n",
       "PeriodicSite: Pb (0.0, 0.0, 0.0) [0.0, 0.0, 0.0]\n",
       "PeriodicSite: O (1.985, 0.0, 1.985) [0.5, 0.0, 0.5]\n",
       "PeriodicSite: O (1.985, 1.985, 0.0) [0.5, 0.5, 0.0]\n",
       "PeriodicSite: O (0.0, 1.985, 1.985) [0.0, 0.5, 0.5]"
      ]
     },
     "execution_count": 23,
     "metadata": {},
     "output_type": "execute_result"
    }
   ],
   "source": [
    "structure"
   ]
  },
  {
   "cell_type": "code",
   "execution_count": 24,
   "id": "53630775-e4b8-4e91-95ba-8db7b1a4c04f",
   "metadata": {},
   "outputs": [],
   "source": [
    "for site in structure:\n",
    "    if site.species_string == \"Pb\":\n",
    "        site.species = \"Sn\""
   ]
  },
  {
   "cell_type": "code",
   "execution_count": 25,
   "id": "f5279fd8-fae4-43f0-88fb-5e2a9d6ac24a",
   "metadata": {},
   "outputs": [
    {
     "data": {
      "text/plain": [
       "Structure Summary\n",
       "Lattice\n",
       "    abc : 3.969049 3.969049 3.969049\n",
       " angles : 90.0 90.0 90.0\n",
       " volume : 62.52581792285582\n",
       "      A : 3.969049 0.0 0.0\n",
       "      B : 0.0 3.969049 0.0\n",
       "      C : 0.0 0.0 3.969049\n",
       "    pbc : True True True\n",
       "PeriodicSite: Ti (1.985, 1.985, 1.985) [0.5, 0.5, 0.5]\n",
       "PeriodicSite: Pb (Sn) (0.0, 0.0, 0.0) [0.0, 0.0, 0.0]\n",
       "PeriodicSite: O (1.985, 0.0, 1.985) [0.5, 0.0, 0.5]\n",
       "PeriodicSite: O (1.985, 1.985, 0.0) [0.5, 0.5, 0.0]\n",
       "PeriodicSite: O (0.0, 1.985, 1.985) [0.0, 0.5, 0.5]"
      ]
     },
     "execution_count": 25,
     "metadata": {},
     "output_type": "execute_result"
    }
   ],
   "source": [
    "structure"
   ]
  },
  {
   "cell_type": "code",
   "execution_count": 31,
   "id": "15e3a5cb-273e-4963-b3a3-6c2e3c0e3a87",
   "metadata": {},
   "outputs": [],
   "source": [
    "atoms = AseAtomsAdaptor.get_atoms(structure)"
   ]
  },
  {
   "cell_type": "code",
   "execution_count": 33,
   "id": "49b0babd-afb2-47d4-899e-b20b9b4efb7a",
   "metadata": {},
   "outputs": [
    {
     "data": {
      "text/plain": [
       "<Popen: returncode: None args: ['/home/elcabris/Documents/scientific computi...>"
      ]
     },
     "execution_count": 33,
     "metadata": {},
     "output_type": "execute_result"
    }
   ],
   "source": [
    "view(atoms)"
   ]
  },
  {
   "cell_type": "markdown",
   "id": "4c6e532f-8cde-4783-ba29-1c16162dac47",
   "metadata": {},
   "source": [
    "## Estabilidad del material\n",
    "\n",
    "El cálculo de la energía total de la estructura modificada ofrece una indicación de la estabilidad de la nueva perovskita con estaño. Si la energía total aumenta considerablemente en comparación con la estructura original, podríamos inferir que le reemplazo disminuye la estabilidad del material, l o que podría afectar su viabilidad para aplicaciones tecnológicas. Si la energía se mantiene dentro de un rango razonable, esta sustitución podría ser factible desde el punto de vista energético."
   ]
  },
  {
   "cell_type": "code",
   "execution_count": 38,
   "id": "6f1b3892-a1c7-4fc6-b8cc-1cf1d3d85e80",
   "metadata": {},
   "outputs": [],
   "source": [
    "ASEatoms = Atoms([atom.species_string for atom in structure], positions=structure.cart_coords)"
   ]
  },
  {
   "cell_type": "code",
   "execution_count": 49,
   "id": "3fcaf222-aada-4527-94b3-a59c3478c173",
   "metadata": {},
   "outputs": [
    {
     "name": "stderr",
     "output_type": "stream",
     "text": [
      "/tmp/ipykernel_13064/4044357169.py:2: DeprecationWarning: Please use atoms.calc = calc\n",
      "  ASEatoms.set_calculator(calc)\n"
     ]
    }
   ],
   "source": [
    "calc = LennardJones()\n",
    "ASEatoms.set_calculator(calc)"
   ]
  },
  {
   "cell_type": "code",
   "execution_count": 50,
   "id": "b7f16233-82e0-435f-bc5c-c80b9ee4168e",
   "metadata": {},
   "outputs": [],
   "source": [
    "energy = ASEatoms.get_potential_energy()"
   ]
  },
  {
   "cell_type": "code",
   "execution_count": 51,
   "id": "f0dbc882-7695-4b38-8557-ab565fc646c4",
   "metadata": {},
   "outputs": [
    {
     "data": {
      "text/plain": [
       "-0.19292570411681198"
      ]
     },
     "execution_count": 51,
     "metadata": {},
     "output_type": "execute_result"
    }
   ],
   "source": [
    "energy"
   ]
  },
  {
   "cell_type": "markdown",
   "id": "2f41c4af-7fb4-436f-9443-acf55e5c6868",
   "metadata": {},
   "source": [
    "La energía total del sistema indica que la "
   ]
  }
 ],
 "metadata": {
  "kernelspec": {
   "display_name": "quimica",
   "language": "python",
   "name": "mi_entorno"
  },
  "language_info": {
   "codemirror_mode": {
    "name": "ipython",
    "version": 3
   },
   "file_extension": ".py",
   "mimetype": "text/x-python",
   "name": "python",
   "nbconvert_exporter": "python",
   "pygments_lexer": "ipython3",
   "version": "3.12.6"
  }
 },
 "nbformat": 4,
 "nbformat_minor": 5
}
