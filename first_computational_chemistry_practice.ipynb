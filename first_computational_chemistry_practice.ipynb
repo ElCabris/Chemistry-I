{
 "cells": [
  {
   "cell_type": "code",
   "execution_count": 1,
   "id": "c984549c-c19e-4bbc-9ef6-de88ad57f741",
   "metadata": {},
   "outputs": [
    {
     "name": "stderr",
     "output_type": "stream",
     "text": [
      "/home/elcabris/Documentos/scientific computing/chemistry/quimica1/lib/python3.12/site-packages/tqdm/auto.py:21: TqdmWarning: IProgress not found. Please update jupyter and ipywidgets. See https://ipywidgets.readthedocs.io/en/stable/user_install.html\n",
      "  from .autonotebook import tqdm as notebook_tqdm\n"
     ]
    }
   ],
   "source": [
    "from mp_api.client import MPRester\n",
    "from dotenv import dotenv_values\n",
    "from ase.io import read\n",
    "from ase.visualize import view"
   ]
  },
  {
   "cell_type": "code",
   "execution_count": 2,
   "id": "f1e7376d-085f-4e17-970e-b0bac2471750",
   "metadata": {},
   "outputs": [],
   "source": [
    "API_KEY = dotenv_values()['API_KEY']"
   ]
  },
  {
   "cell_type": "markdown",
   "id": "b9cfece9-2922-4aff-bff2-6fe0b9c3209d",
   "metadata": {},
   "source": [
    "# Punto 1"
   ]
  },
  {
   "cell_type": "code",
   "execution_count": 3,
   "id": "3e488771-18bd-4fcf-9196-443b4d4954ba",
   "metadata": {},
   "outputs": [],
   "source": [
    "bravais_lattice = {\n",
    "    \"P\": \"Primitive\",\n",
    "    \"S\": \"Base-centered\",\n",
    "    \"I\": \"Body-centered\",\n",
    "    \"F\": \"Face-centered\",\n",
    "    \"C\": \"Base-centered\",\n",
    "    \"R\": \"Primitive\"\n",
    "}"
   ]
  },
  {
   "cell_type": "code",
   "execution_count": 4,
   "id": "735a9009-c343-4ecc-ad8b-a6b99b0a3c4f",
   "metadata": {},
   "outputs": [],
   "source": [
    "cristal_system = {\n",
    "    \"cubic\": None,\n",
    "    \"triclinic\": None,\n",
    "    \"orthorhombic\": ['mp-558014', 'mp-998864', 'mp-937760', 'mp-973783'],\n",
    "    \"monoclinic\": ['mp-557376', 'mp-1196831'],\n",
    "    \"tetragonal\": ['mp-1096977', 'mp-632291'],\n",
    "    \"rombohedral\": None,\n",
    "    \"hexagonal\": ['mp-10851'],\n",
    "}"
   ]
  },
  {
   "cell_type": "code",
   "execution_count": 5,
   "id": "a9fc0b5b-0084-42dc-9d28-3753b23627a8",
   "metadata": {
    "scrolled": true
   },
   "outputs": [
    {
     "name": "stderr",
     "output_type": "stream",
     "text": [
      "/tmp/ipykernel_22932/4142830632.py:2: DeprecationWarning: Accessing summary data through MPRester.summary is deprecated. Please use MPRester.materials.summary instead.\n",
      "  cristal_system['cubic'] = mpr.summary.search(formula=['W'], crystal_system='Cubic')\n",
      "Retrieving SummaryDoc documents: 100%|█████████| 3/3 [00:00<00:00, 19298.94it/s]\n",
      "/tmp/ipykernel_22932/4142830632.py:3: DeprecationWarning: Accessing summary data through MPRester.summary is deprecated. Please use MPRester.materials.summary instead.\n",
      "  cristal_system['triclinic'] = mpr.summary.search(formula=['S'], crystal_system='Triclinic')\n",
      "Retrieving SummaryDoc documents: 100%|██████████| 1/1 [00:00<00:00, 7913.78it/s]\n",
      "/tmp/ipykernel_22932/4142830632.py:4: DeprecationWarning: Accessing summary data through MPRester.summary is deprecated. Please use MPRester.materials.summary instead.\n",
      "  cristal_system['orthorhombic'] = mpr.summary.search(material_ids=cristal_system['orthorhombic'])\n",
      "Retrieving SummaryDoc documents: 100%|█████████| 4/4 [00:00<00:00, 63550.06it/s]\n",
      "/tmp/ipykernel_22932/4142830632.py:5: DeprecationWarning: Accessing summary data through MPRester.summary is deprecated. Please use MPRester.materials.summary instead.\n",
      "  cristal_system['monoclinic'] = mpr.summary.search(material_ids=cristal_system['monoclinic'])\n",
      "Retrieving SummaryDoc documents: 100%|█████████| 2/2 [00:00<00:00, 17962.76it/s]\n",
      "/tmp/ipykernel_22932/4142830632.py:6: DeprecationWarning: Accessing summary data through MPRester.summary is deprecated. Please use MPRester.materials.summary instead.\n",
      "  cristal_system['tetragonal'] = mpr.summary.search(material_ids=cristal_system['tetragonal'])\n",
      "Retrieving SummaryDoc documents: 100%|█████████| 2/2 [00:00<00:00, 32263.88it/s]\n",
      "/tmp/ipykernel_22932/4142830632.py:7: DeprecationWarning: Accessing summary data through MPRester.summary is deprecated. Please use MPRester.materials.summary instead.\n",
      "  cristal_system['hexagonal'] = mpr.summary.search(material_ids=cristal_system['hexagonal'])\n",
      "Retrieving SummaryDoc documents: 100%|██████████| 1/1 [00:00<00:00, 7989.15it/s]\n",
      "/tmp/ipykernel_22932/4142830632.py:8: DeprecationWarning: Accessing summary data through MPRester.summary is deprecated. Please use MPRester.materials.summary instead.\n",
      "  cristal_system['rombohedral'] = mpr.summary.search(formula=['CaMg(CO3)2'], crystal_system='Trigonal')\n",
      "Retrieving SummaryDoc documents: 100%|█████████| 1/1 [00:00<00:00, 21399.51it/s]\n"
     ]
    }
   ],
   "source": [
    "with MPRester(api_key=API_KEY) as mpr:\n",
    "    cristal_system['cubic'] = mpr.summary.search(formula=['W'], crystal_system='Cubic')\n",
    "    cristal_system['triclinic'] = mpr.summary.search(formula=['S'], crystal_system='Triclinic')\n",
    "    cristal_system['orthorhombic'] = mpr.summary.search(material_ids=cristal_system['orthorhombic'])\n",
    "    cristal_system['monoclinic'] = mpr.summary.search(material_ids=cristal_system['monoclinic'])\n",
    "    cristal_system['tetragonal'] = mpr.summary.search(material_ids=cristal_system['tetragonal'])\n",
    "    cristal_system['hexagonal'] = mpr.summary.search(material_ids=cristal_system['hexagonal'])\n",
    "    cristal_system['rombohedral'] = mpr.summary.search(formula=['CaMg(CO3)2'], crystal_system='Trigonal')"
   ]
  },
  {
   "cell_type": "code",
   "execution_count": 6,
   "id": "117486c7-3018-4303-a058-ed173fb02a94",
   "metadata": {
    "scrolled": true
   },
   "outputs": [
    {
     "name": "stdout",
     "output_type": "stream",
     "text": [
      "mp-ID: mp-11334\n",
      "Fórmula: W\n",
      "Red de Bravais: Cubic Primitive\n",
      "Notación H-M: Pm-3n\n",
      "Grupo espacial: 223\n",
      "\n",
      "mp-ID: mp-8641\n",
      "Fórmula: W\n",
      "Red de Bravais: Cubic Face-centered\n",
      "Notación H-M: Fm-3m\n",
      "Grupo espacial: 225\n",
      "\n",
      "mp-ID: mp-91\n",
      "Fórmula: W\n",
      "Red de Bravais: Cubic Body-centered\n",
      "Notación H-M: Im-3m\n",
      "Grupo espacial: 229\n",
      "\n",
      "mp-ID: mp-561513\n",
      "Fórmula: S\n",
      "Red de Bravais: Triclinic Primitive\n",
      "Notación H-M: P-1\n",
      "Grupo espacial: 2\n",
      "\n",
      "mp-ID: mp-558014\n",
      "Fórmula: S\n",
      "Red de Bravais: Orthorhombic Primitive\n",
      "Notación H-M: Pnnm\n",
      "Grupo espacial: 58\n",
      "\n",
      "mp-ID: mp-998864\n",
      "Fórmula: Br\n",
      "Red de Bravais: Orthorhombic Body-centered\n",
      "Notación H-M: Immm\n",
      "Grupo espacial: 71\n",
      "\n",
      "mp-ID: mp-937760\n",
      "Fórmula: C\n",
      "Red de Bravais: Orthorhombic Face-centered\n",
      "Notación H-M: Fmmm\n",
      "Grupo espacial: 69\n",
      "\n",
      "mp-ID: mp-973783\n",
      "Fórmula: H2\n",
      "Red de Bravais: Orthorhombic Base-centered\n",
      "Notación H-M: Cmce\n",
      "Grupo espacial: 64\n",
      "\n",
      "mp-ID: mp-1196831\n",
      "Fórmula: S\n",
      "Red de Bravais: Monoclinic Primitive\n",
      "Notación H-M: P2\n",
      "Grupo espacial: 3\n",
      "\n",
      "mp-ID: mp-557376\n",
      "Fórmula: S\n",
      "Red de Bravais: Monoclinic Base-centered\n",
      "Notación H-M: C2/c\n",
      "Grupo espacial: 15\n",
      "\n",
      "mp-ID: mp-632291\n",
      "Fórmula: H2\n",
      "Red de Bravais: Tetragonal Body-centered\n",
      "Notación H-M: I4/mmm\n",
      "Grupo espacial: 139\n",
      "\n",
      "mp-ID: mp-1096977\n",
      "Fórmula: H2\n",
      "Red de Bravais: Tetragonal Primitive\n",
      "Notación H-M: P4/mmm\n",
      "Grupo espacial: 123\n",
      "\n",
      "mp-ID: mp-6459\n",
      "Fórmula: CaMg(CO3)2\n",
      "Red de Bravais: Trigonal Primitive\n",
      "Notación H-M: R-3\n",
      "Grupo espacial: 148\n",
      "\n",
      "mp-ID: mp-10851\n",
      "Fórmula: SiO2\n",
      "Red de Bravais: Hexagonal Primitive\n",
      "Notación H-M: P6_422\n",
      "Grupo espacial: 181\n",
      "\n"
     ]
    }
   ],
   "source": [
    "for j in cristal_system.values():\n",
    "    for i in j:\n",
    "        information = ''\n",
    "        information += f'mp-ID: {i.material_id}\\n'\n",
    "        information += f'Fórmula: {i.formula_pretty}\\n'\n",
    "        information += f'Red de Bravais: {i.symmetry.crystal_system} {bravais_lattice[i.symmetry.symbol[0]]}\\n'\n",
    "        information += f'Notación H-M: {i.symmetry.symbol}\\n'\n",
    "        information += f'Grupo espacial: {i.symmetry.number}\\n'\n",
    "        print(information)"
   ]
  },
  {
   "cell_type": "markdown",
   "id": "52f1c326-f76c-4434-8a7d-9952533c6295",
   "metadata": {},
   "source": [
    "# Punto 3"
   ]
  },
  {
   "cell_type": "code",
   "execution_count": 7,
   "id": "9eabad96-64f9-4157-900c-23f861208552",
   "metadata": {},
   "outputs": [],
   "source": [
    "def create_cif(mp_summary):\n",
    "    name = f\"{mp_summary.material_id}.cif\"\n",
    "    structure = mpr.get_structure_by_material_id(mp_summary.material_id)\n",
    "    structure.to(filename=name, fmt=\"cif\")\n",
    "    return name\n",
    "\n",
    "def view_structure(mp_summary):\n",
    "    material = read(create_cif(mp_summary))\n",
    "    view(material)\n",
    "\n",
    "def show_all():\n",
    "    for i in cristal_system.values():\n",
    "        for j in i:\n",
    "            view_structure(j)\n",
    "# show_all()"
   ]
  },
  {
   "cell_type": "code",
   "execution_count": 8,
   "id": "7fa56512-ab28-49fa-bb95-c3935102940b",
   "metadata": {},
   "outputs": [
    {
     "data": {
      "text/plain": [
       "5.06227038"
      ]
     },
     "execution_count": 8,
     "metadata": {},
     "output_type": "execute_result"
    }
   ],
   "source": [
    "cristal_system['cubic'][0].structure.as_dict()['lattice']['a']"
   ]
  },
  {
   "cell_type": "code",
   "execution_count": null,
   "id": "27c52cf1-7841-4689-9cc1-1048a6d9edd2",
   "metadata": {},
   "outputs": [],
   "source": []
  },
  {
   "cell_type": "code",
   "execution_count": null,
   "id": "0700d129",
   "metadata": {},
   "outputs": [],
   "source": []
  },
  {
   "cell_type": "code",
   "execution_count": null,
   "id": "5a846f60",
   "metadata": {},
   "outputs": [],
   "source": []
  }
 ],
 "metadata": {
  "kernelspec": {
   "display_name": "python quimica1",
   "language": "python",
   "name": "quimica1"
  },
  "language_info": {
   "codemirror_mode": {
    "name": "ipython",
    "version": 3
   },
   "file_extension": ".py",
   "mimetype": "text/x-python",
   "name": "python",
   "nbconvert_exporter": "python",
   "pygments_lexer": "ipython3",
   "version": "3.12.3"
  }
 },
 "nbformat": 4,
 "nbformat_minor": 5
}
