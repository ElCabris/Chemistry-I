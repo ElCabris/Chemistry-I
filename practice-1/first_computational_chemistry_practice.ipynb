{
 "cells": [
  {
   "cell_type": "code",
   "execution_count": 1,
   "id": "c984549c-c19e-4bbc-9ef6-de88ad57f741",
   "metadata": {},
   "outputs": [
    {
     "name": "stderr",
     "output_type": "stream",
     "text": [
      "/home/elcabris/Documentos/scientific computing/chemistry/quimica1/lib/python3.12/site-packages/tqdm/auto.py:21: TqdmWarning: IProgress not found. Please update jupyter and ipywidgets. See https://ipywidgets.readthedocs.io/en/stable/user_install.html\n",
      "  from .autonotebook import tqdm as notebook_tqdm\n"
     ]
    }
   ],
   "source": [
    "from mp_api.client import MPRester\n",
    "from dotenv import dotenv_values\n",
    "from ase.io import read\n",
    "from ase.visualize import view"
   ]
  },
  {
   "cell_type": "code",
   "execution_count": 2,
   "id": "f1e7376d-085f-4e17-970e-b0bac2471750",
   "metadata": {},
   "outputs": [
    {
     "name": "stdout",
     "output_type": "stream",
     "text": [
      "d6pFCKRaeSdz43y2tmrgcjbBkfU7N4Pj\n"
     ]
    }
   ],
   "source": [
    "API_KEY = dotenv_values()['API_KEY']\n",
    "print(API_KEY)"
   ]
  },
  {
   "cell_type": "markdown",
   "id": "b9cfece9-2922-4aff-bff2-6fe0b9c3209d",
   "metadata": {},
   "source": [
    "# Punto 1"
   ]
  },
  {
   "cell_type": "code",
   "execution_count": 3,
   "id": "3e488771-18bd-4fcf-9196-443b4d4954ba",
   "metadata": {},
   "outputs": [],
   "source": [
    "bravais_lattice = {\n",
    "    \"P\": \"Primitive\",\n",
    "    \"S\": \"Base-centered\",\n",
    "    \"I\": \"Body-centered\",\n",
    "    \"F\": \"Face-centered\",\n",
    "    \"C\": \"Base-centered\",\n",
    "    \"R\": \"Primitive\"\n",
    "}"
   ]
  },
  {
   "cell_type": "code",
   "execution_count": 4,
   "id": "735a9009-c343-4ecc-ad8b-a6b99b0a3c4f",
   "metadata": {},
   "outputs": [],
   "source": [
    "cristal_system = {\n",
    "    \"cubic\": None,\n",
    "    \"triclinic\": None,\n",
    "    \"orthorhombic\": ['mp-558014', 'mp-998864', 'mp-937760', 'mp-973783'],\n",
    "    \"monoclinic\": ['mp-557376', 'mp-1196831'],\n",
    "    \"tetragonal\": ['mp-1096977', 'mp-632291'],\n",
    "    \"rombohedral\": None,\n",
    "    \"hexagonal\": ['mp-10851'],\n",
    "}"
   ]
  },
  {
   "cell_type": "code",
   "execution_count": 5,
   "id": "a9fc0b5b-0084-42dc-9d28-3753b23627a8",
   "metadata": {
    "scrolled": true
   },
   "outputs": [
    {
     "name": "stderr",
     "output_type": "stream",
     "text": [
      "/tmp/ipykernel_5466/4142830632.py:2: DeprecationWarning: Accessing summary data through MPRester.summary is deprecated. Please use MPRester.materials.summary instead.\n",
      "  cristal_system['cubic'] = mpr.summary.search(formula=['W'], crystal_system='Cubic')\n",
      "Retrieving SummaryDoc documents: 100%|█████████| 3/3 [00:00<00:00, 18752.48it/s]\n",
      "/tmp/ipykernel_5466/4142830632.py:3: DeprecationWarning: Accessing summary data through MPRester.summary is deprecated. Please use MPRester.materials.summary instead.\n",
      "  cristal_system['triclinic'] = mpr.summary.search(formula=['S'], crystal_system='Triclinic')\n",
      "Retrieving SummaryDoc documents: 100%|██████████| 1/1 [00:00<00:00, 8322.03it/s]\n",
      "/tmp/ipykernel_5466/4142830632.py:4: DeprecationWarning: Accessing summary data through MPRester.summary is deprecated. Please use MPRester.materials.summary instead.\n",
      "  cristal_system['orthorhombic'] = mpr.summary.search(material_ids=cristal_system['orthorhombic'])\n",
      "Retrieving SummaryDoc documents: 100%|█████████| 4/4 [00:00<00:00, 28008.71it/s]\n",
      "/tmp/ipykernel_5466/4142830632.py:5: DeprecationWarning: Accessing summary data through MPRester.summary is deprecated. Please use MPRester.materials.summary instead.\n",
      "  cristal_system['monoclinic'] = mpr.summary.search(material_ids=cristal_system['monoclinic'])\n",
      "Retrieving SummaryDoc documents: 100%|█████████| 2/2 [00:00<00:00, 17623.13it/s]\n",
      "/tmp/ipykernel_5466/4142830632.py:6: DeprecationWarning: Accessing summary data through MPRester.summary is deprecated. Please use MPRester.materials.summary instead.\n",
      "  cristal_system['tetragonal'] = mpr.summary.search(material_ids=cristal_system['tetragonal'])\n",
      "Retrieving SummaryDoc documents: 100%|█████████| 2/2 [00:00<00:00, 11459.85it/s]\n",
      "/tmp/ipykernel_5466/4142830632.py:7: DeprecationWarning: Accessing summary data through MPRester.summary is deprecated. Please use MPRester.materials.summary instead.\n",
      "  cristal_system['hexagonal'] = mpr.summary.search(material_ids=cristal_system['hexagonal'])\n",
      "Retrieving SummaryDoc documents: 100%|██████████| 1/1 [00:00<00:00, 8756.38it/s]\n",
      "/tmp/ipykernel_5466/4142830632.py:8: DeprecationWarning: Accessing summary data through MPRester.summary is deprecated. Please use MPRester.materials.summary instead.\n",
      "  cristal_system['rombohedral'] = mpr.summary.search(formula=['CaMg(CO3)2'], crystal_system='Trigonal')\n",
      "Retrieving SummaryDoc documents: 100%|██████████| 1/1 [00:00<00:00, 6563.86it/s]\n"
     ]
    }
   ],
   "source": [
    "with MPRester(api_key=API_KEY) as mpr:\n",
    "    cristal_system['cubic'] = mpr.summary.search(formula=['W'], crystal_system='Cubic')\n",
    "    cristal_system['triclinic'] = mpr.summary.search(formula=['S'], crystal_system='Triclinic')\n",
    "    cristal_system['orthorhombic'] = mpr.summary.search(material_ids=cristal_system['orthorhombic'])\n",
    "    cristal_system['monoclinic'] = mpr.summary.search(material_ids=cristal_system['monoclinic'])\n",
    "    cristal_system['tetragonal'] = mpr.summary.search(material_ids=cristal_system['tetragonal'])\n",
    "    cristal_system['hexagonal'] = mpr.summary.search(material_ids=cristal_system['hexagonal'])\n",
    "    cristal_system['rombohedral'] = mpr.summary.search(formula=['CaMg(CO3)2'], crystal_system='Trigonal')"
   ]
  },
  {
   "cell_type": "code",
   "execution_count": 6,
   "id": "117486c7-3018-4303-a058-ed173fb02a94",
   "metadata": {
    "scrolled": true
   },
   "outputs": [
    {
     "name": "stdout",
     "output_type": "stream",
     "text": [
      "mp-ID: mp-11334\n",
      "Fórmula: W\n",
      "Red de Bravais: Cubic Primitive\n",
      "Notación H-M: Pm-3n\n",
      "Grupo espacial: 223\n",
      "\n",
      "mp-ID: mp-8641\n",
      "Fórmula: W\n",
      "Red de Bravais: Cubic Face-centered\n",
      "Notación H-M: Fm-3m\n",
      "Grupo espacial: 225\n",
      "\n",
      "mp-ID: mp-91\n",
      "Fórmula: W\n",
      "Red de Bravais: Cubic Body-centered\n",
      "Notación H-M: Im-3m\n",
      "Grupo espacial: 229\n",
      "\n",
      "mp-ID: mp-561513\n",
      "Fórmula: S\n",
      "Red de Bravais: Triclinic Primitive\n",
      "Notación H-M: P-1\n",
      "Grupo espacial: 2\n",
      "\n",
      "mp-ID: mp-558014\n",
      "Fórmula: S\n",
      "Red de Bravais: Orthorhombic Primitive\n",
      "Notación H-M: Pnnm\n",
      "Grupo espacial: 58\n",
      "\n",
      "mp-ID: mp-937760\n",
      "Fórmula: C\n",
      "Red de Bravais: Orthorhombic Face-centered\n",
      "Notación H-M: Fmmm\n",
      "Grupo espacial: 69\n",
      "\n",
      "mp-ID: mp-998864\n",
      "Fórmula: Br\n",
      "Red de Bravais: Orthorhombic Body-centered\n",
      "Notación H-M: Immm\n",
      "Grupo espacial: 71\n",
      "\n",
      "mp-ID: mp-973783\n",
      "Fórmula: H2\n",
      "Red de Bravais: Orthorhombic Base-centered\n",
      "Notación H-M: Cmce\n",
      "Grupo espacial: 64\n",
      "\n",
      "mp-ID: mp-557376\n",
      "Fórmula: S\n",
      "Red de Bravais: Monoclinic Base-centered\n",
      "Notación H-M: C2/c\n",
      "Grupo espacial: 15\n",
      "\n",
      "mp-ID: mp-1196831\n",
      "Fórmula: S\n",
      "Red de Bravais: Monoclinic Primitive\n",
      "Notación H-M: P2\n",
      "Grupo espacial: 3\n",
      "\n",
      "mp-ID: mp-632291\n",
      "Fórmula: H2\n",
      "Red de Bravais: Tetragonal Body-centered\n",
      "Notación H-M: I4/mmm\n",
      "Grupo espacial: 139\n",
      "\n",
      "mp-ID: mp-1096977\n",
      "Fórmula: H2\n",
      "Red de Bravais: Tetragonal Primitive\n",
      "Notación H-M: P4/mmm\n",
      "Grupo espacial: 123\n",
      "\n",
      "mp-ID: mp-6459\n",
      "Fórmula: CaMg(CO3)2\n",
      "Red de Bravais: Trigonal Primitive\n",
      "Notación H-M: R-3\n",
      "Grupo espacial: 148\n",
      "\n",
      "mp-ID: mp-10851\n",
      "Fórmula: SiO2\n",
      "Red de Bravais: Hexagonal Primitive\n",
      "Notación H-M: P6_422\n",
      "Grupo espacial: 181\n",
      "\n"
     ]
    }
   ],
   "source": [
    "for j in cristal_system.values():\n",
    "    for i in j:\n",
    "        information = ''\n",
    "        information += f'mp-ID: {i.material_id}\\n'\n",
    "        information += f'Fórmula: {i.formula_pretty}\\n'\n",
    "        information += f'Red de Bravais: {i.symmetry.crystal_system} {bravais_lattice[i.symmetry.symbol[0]]}\\n'\n",
    "        information += f'Notación H-M: {i.symmetry.symbol}\\n'\n",
    "        information += f'Grupo espacial: {i.symmetry.number}\\n'\n",
    "        print(information)"
   ]
  },
  {
   "cell_type": "markdown",
   "id": "33f9e3d5",
   "metadata": {},
   "source": [
    "# Punto 2\n",
    "\n",
    "## Celda unitaria y celda primitiva\n",
    "\n",
    "La celda unitaria es la estructura báisca que se repite en tres dimensiones para formar una red cristalina, esta puede contener uno o más puntos de red en su interior, mientras tanto la celda primitiva es un tipo específico de celda unitaria que contiene **exactamente un punto de red** en su interior\n",
    "    <img src=\"celda_unitaria.png\" alt=\"celda unitaria\" height=\"100\">\n",
    "    <img src=\"celda_primitiva.png\" alt=\"celda primitiva\" height=\"100\">\n",
    "\n",
    "## Contribución fraccionaria\n",
    "La contribución fraccionaria de cada átomo en la celda unitaria se da mediante la siguiente fórmula:\n",
    "\n",
    "$$\n",
    "8 \\times \\frac{1}{8} = 1\n",
    "$$\n",
    "\n",
    "Esto se debe a que es un sistema cúbico primitivo y el átomo está ubicado en la esquina de la celda unitaria."
   ]
  },
  {
   "cell_type": "markdown",
   "id": "52f1c326-f76c-4434-8a7d-9952533c6295",
   "metadata": {},
   "source": [
    "# Punto 3"
   ]
  },
  {
   "cell_type": "code",
   "execution_count": 7,
   "id": "9eabad96-64f9-4157-900c-23f861208552",
   "metadata": {},
   "outputs": [
    {
     "name": "stderr",
     "output_type": "stream",
     "text": [
      "Retrieving MaterialsDoc documents: 100%|████████| 1/1 [00:00<00:00, 8507.72it/s]\n"
     ]
    }
   ],
   "source": [
    "def create_cif(mp_summary):\n",
    "    name = f\"{mp_summary.material_id}.cif\"\n",
    "    structure = mpr.get_structure_by_material_id(mp_summary.material_id)\n",
    "    structure.to(filename=name, fmt=\"cif\")\n",
    "    return name\n",
    "\n",
    "def view_structure(mp_summary):\n",
    "    material = read(create_cif(mp_summary))\n",
    "    view(material)\n",
    "\n",
    "def show_all():\n",
    "    for i in cristal_system.values():\n",
    "        for j in i:\n",
    "            view_structure(j)\n",
    "\n",
    "view_structure(cristal_system['cubic'][1])\n",
    "# show_all()"
   ]
  },
  {
   "cell_type": "code",
   "execution_count": 8,
   "id": "69470a27-b849-4475-a0e8-6dfd5f30dc59",
   "metadata": {},
   "outputs": [],
   "source": [
    "# contar aniones y cationes\n",
    "def iones(mp_id):\n",
    "        structure = mpr.get_structure_by_material_id(mp_id)\n",
    "        structure.add_oxidation_state_by_guess()\n",
    "        cations = sum(1 for site in structure if site.specie.oxi_state > 0)\n",
    "        anions = sum(1 for site in structure if site.specie.oxi_state < 0)\n",
    "        return cations, anions"
   ]
  },
  {
   "cell_type": "code",
   "execution_count": 9,
   "id": "7fa56512-ab28-49fa-bb95-c3935102940b",
   "metadata": {
    "scrolled": true
   },
   "outputs": [
    {
     "name": "stderr",
     "output_type": "stream",
     "text": [
      "Retrieving MaterialsDoc documents: 100%|████████| 1/1 [00:00<00:00, 6000.43it/s]\n"
     ]
    },
    {
     "name": "stdout",
     "output_type": "stream",
     "text": [
      "mp-11334\n",
      "Red de Bravais: Cubic Primitive\n",
      "a: 5.06227038, b: 5.06227038, c: 5.06227038\n",
      "alpha: 90.0, beta: 90.0, gamma: 90.0\n",
      "volumen: 129.7286839630197\n",
      "cationes: 0, iones: 0\n"
     ]
    },
    {
     "name": "stderr",
     "output_type": "stream",
     "text": [
      "Retrieving MaterialsDoc documents: 100%|████████| 1/1 [00:00<00:00, 6700.17it/s]\n"
     ]
    },
    {
     "name": "stdout",
     "output_type": "stream",
     "text": [
      "mp-8641\n",
      "Red de Bravais: Cubic Face-centered\n",
      "a: 2.82275556623129, b: 2.822755247963796, c: 2.82275486\n",
      "alpha: 59.999993129615255, beta: 59.99999699469613, gamma: 59.99998775979054\n",
      "volumen: 15.903934900377433\n",
      "cationes: 0, iones: 0\n"
     ]
    },
    {
     "name": "stderr",
     "output_type": "stream",
     "text": [
      "Retrieving MaterialsDoc documents: 100%|████████| 1/1 [00:00<00:00, 8256.50it/s]\n"
     ]
    },
    {
     "name": "stdout",
     "output_type": "stream",
     "text": [
      "mp-91\n",
      "Red de Bravais: Cubic Body-centered\n",
      "a: 2.745573721758673, b: 2.745573806977822, c: 2.74557459\n",
      "alpha: 109.47124142241367, beta: 109.47124187044405, gamma: 109.47119866543231\n",
      "volumen: 15.932263521447117\n",
      "cationes: 0, iones: 0\n"
     ]
    },
    {
     "name": "stderr",
     "output_type": "stream",
     "text": [
      "Retrieving MaterialsDoc documents: 100%|████████| 1/1 [00:00<00:00, 4660.34it/s]\n"
     ]
    },
    {
     "name": "stdout",
     "output_type": "stream",
     "text": [
      "mp-561513\n",
      "Red de Bravais: Triclinic Primitive\n",
      "a: 5.6085253771663295, b: 9.982266179314713, c: 14.837742833426908\n",
      "alpha: 95.38538067499829, beta: 99.99325073717829, gamma: 100.17193892817453\n",
      "volumen: 798.5715364141056\n",
      "cationes: 0, iones: 0\n"
     ]
    },
    {
     "name": "stderr",
     "output_type": "stream",
     "text": [
      "Retrieving MaterialsDoc documents: 100%|████████| 1/1 [00:00<00:00, 4169.29it/s]\n"
     ]
    },
    {
     "name": "stdout",
     "output_type": "stream",
     "text": [
      "mp-558014\n",
      "Red de Bravais: Orthorhombic Primitive\n",
      "a: 4.81074221, b: 9.26907794, c: 14.90886869\n",
      "alpha: 90.0, beta: 90.0, gamma: 90.0\n",
      "volumen: 664.8035179939542\n",
      "cationes: 0, iones: 0\n"
     ]
    },
    {
     "name": "stderr",
     "output_type": "stream",
     "text": [
      "Retrieving MaterialsDoc documents: 100%|████████| 1/1 [00:00<00:00, 9664.29it/s]\n"
     ]
    },
    {
     "name": "stdout",
     "output_type": "stream",
     "text": [
      "mp-937760\n",
      "Red de Bravais: Orthorhombic Face-centered\n",
      "a: 2.4561135565610224, b: 2.4561135565610224, c: 7.17326776\n",
      "alpha: 90.0, beta: 90.0, gamma: 120.00047453054408\n",
      "volumen: 37.47507249833001\n",
      "cationes: 0, iones: 0\n"
     ]
    },
    {
     "name": "stderr",
     "output_type": "stream",
     "text": [
      "Retrieving MaterialsDoc documents: 100%|████████| 1/1 [00:00<00:00, 4660.34it/s]\n"
     ]
    },
    {
     "name": "stdout",
     "output_type": "stream",
     "text": [
      "mp-998864\n",
      "Red de Bravais: Orthorhombic Body-centered\n",
      "a: 2.57353681, b: 3.4399944, c: 4.173270558456668\n",
      "alpha: 114.33972884697579, beta: 107.95896980097261, gamma: 90.0\n",
      "volumen: 31.675784763719236\n",
      "cationes: 0, iones: 0\n"
     ]
    },
    {
     "name": "stderr",
     "output_type": "stream",
     "text": [
      "Retrieving MaterialsDoc documents: 100%|████████| 1/1 [00:00<00:00, 4766.25it/s]\n"
     ]
    },
    {
     "name": "stdout",
     "output_type": "stream",
     "text": [
      "mp-973783\n",
      "Red de Bravais: Orthorhombic Base-centered\n",
      "a: 4.141818, b: 5.246962759739197, c: 3.668284891538966\n",
      "alpha: 44.40740464815001, beta: 90.0, gamma: 90.0\n",
      "volumen: 55.783848946013705\n",
      "cationes: 0, iones: 0\n"
     ]
    },
    {
     "name": "stderr",
     "output_type": "stream",
     "text": [
      "Retrieving MaterialsDoc documents: 100%|████████| 1/1 [00:00<00:00, 9597.95it/s]\n"
     ]
    },
    {
     "name": "stdout",
     "output_type": "stream",
     "text": [
      "mp-557376\n",
      "Red de Bravais: Monoclinic Base-centered\n",
      "a: 8.288005039026642, b: 8.288004541399104, c: 8.576506955729108\n",
      "alpha: 77.4295888585864, beta: 77.4295925377172, gamma: 77.41655449630429\n",
      "volumen: 552.1624687973816\n",
      "cationes: 0, iones: 0\n"
     ]
    },
    {
     "name": "stderr",
     "output_type": "stream",
     "text": [
      "Retrieving MaterialsDoc documents: 100%|███████| 1/1 [00:00<00:00, 10782.27it/s]\n"
     ]
    },
    {
     "name": "stdout",
     "output_type": "stream",
     "text": [
      "mp-1196831\n",
      "Red de Bravais: Monoclinic Primitive\n",
      "a: 10.227076, b: 14.090503, c: 19.209660321551237\n",
      "alpha: 68.76723424704682, beta: 90.0, gamma: 90.0\n",
      "volumen: 2580.2870495954758\n",
      "cationes: 0, iones: 0\n"
     ]
    },
    {
     "name": "stderr",
     "output_type": "stream",
     "text": [
      "Retrieving MaterialsDoc documents: 100%|████████| 1/1 [00:00<00:00, 8559.80it/s]\n"
     ]
    },
    {
     "name": "stdout",
     "output_type": "stream",
     "text": [
      "mp-632291\n",
      "Red de Bravais: Tetragonal Body-centered\n",
      "a: 3.1559297986334998, b: 3.1559297986334998, c: 3.1559297986334998\n",
      "alpha: 115.17837943615815, beta: 115.17837943615815, gamma: 98.57618480964015\n",
      "volumen: 23.559554811080492\n",
      "cationes: 0, iones: 0\n"
     ]
    },
    {
     "name": "stderr",
     "output_type": "stream",
     "text": [
      "Retrieving MaterialsDoc documents: 100%|████████| 1/1 [00:00<00:00, 5652.70it/s]\n"
     ]
    },
    {
     "name": "stdout",
     "output_type": "stream",
     "text": [
      "mp-1096977\n",
      "Red de Bravais: Tetragonal Primitive\n",
      "a: 0.98049292, b: 2.649638738941349, c: 2.649638738941349\n",
      "alpha: 90.0, beta: 90.0, gamma: 90.0\n",
      "volumen: 6.883634324939212\n",
      "cationes: 0, iones: 0\n"
     ]
    },
    {
     "name": "stderr",
     "output_type": "stream",
     "text": [
      "Retrieving MaterialsDoc documents: 100%|████████| 1/1 [00:00<00:00, 8981.38it/s]\n"
     ]
    },
    {
     "name": "stdout",
     "output_type": "stream",
     "text": [
      "mp-6459\n",
      "Red de Bravais: Trigonal Primitive\n",
      "a: 6.085409604925538, b: 6.085409604925538, c: 6.0854091445989065\n",
      "alpha: 47.196259894724754, beta: 47.196259894724754, gamma: 47.196263190687255\n",
      "volumen: 110.93640357128461\n",
      "cationes: 4, iones: 6\n"
     ]
    },
    {
     "name": "stderr",
     "output_type": "stream",
     "text": [
      "Retrieving MaterialsDoc documents: 100%|████████| 1/1 [00:00<00:00, 8081.51it/s]"
     ]
    },
    {
     "name": "stdout",
     "output_type": "stream",
     "text": [
      "mp-10851\n",
      "Red de Bravais: Hexagonal Primitive\n",
      "a: 5.06052279, b: 5.0605216667359585, c: 5.54135331\n",
      "alpha: 90.0, beta: 90.0, gamma: 119.9999944475218\n",
      "volumen: 122.89583673299464\n",
      "cationes: 3, iones: 6\n"
     ]
    },
    {
     "name": "stderr",
     "output_type": "stream",
     "text": [
      "\n"
     ]
    }
   ],
   "source": [
    "for i in cristal_system.values():\n",
    "    for j in i:\n",
    "        structure = j.structure.as_dict()['lattice']\n",
    "        j_iones = iones(j.material_id)\n",
    "        print(f'{j.material_id}')\n",
    "        print(f'Red de Bravais: {j.symmetry.crystal_system} {bravais_lattice[j.symmetry.symbol[0]]}')\n",
    "        print(f'a: {structure['a']}, b: {structure['b']}, c: {structure['c']}')\n",
    "        print(f'alpha: {structure['alpha']}, beta: {structure['beta']}, gamma: {structure['gamma']}')\n",
    "        print(f'volumen: {structure['volume']}')\n",
    "        print(f'cationes: {j_iones[0]}, iones: {j_iones[1]}')\n",
    "    cristal_system['cubic'][0].structure.as_dict()['lattice']"
   ]
  },
  {
   "cell_type": "markdown",
   "id": "f051c7d0-af00-40a3-a746-20cb8eb8b731",
   "metadata": {},
   "source": [
    "# Punto 4\n",
    "\n",
    "## Cubico Primitivo (Pm-3n)\n",
    "- **P:** indica que la celda unidad es primitiva\n",
    "- **m:** hay plano de reflexión perpendicular a los ejes principales\n",
    "- **-3:** indica que hay una simetría de rotación de 120° combinada con una reflexión\n",
    "- **n:** indica que hay un plano de deslizamiento relacionado con la simetría del sistema.\n",
    "\n",
    "## Cúbico Centrado en las Caras (Fm-3m)\n",
    "- **F:** indica que la celda unitaria es centrada en las caras\n",
    "- **m:** representa un plano de reflexión perpendicular a los ejes principales\n",
    "- **-3:** existe una simetría de rotoinversión, que combina una rotación de 120° con una inversión a través de un punto.\n",
    "- **m:** indica la presencia de un plano de reflexión relacionado con planos adicionales de simetría en el cristal.\n",
    "\n",
    "## Cúbico Centrado en el Cuerpo (Im-3m)\n",
    "- **I:** Indica que la celda unidad es centrada en el cuerpo\n",
    "- **m:** Representa un plano de reflexión perpendicular a los ejes principales del cristal\n",
    "- **-3:** Denota una simetría de rotoinversión, que combina una rotación de 120° con una inversión a través de un punto.\n",
    "- **m:** indica la presencia de un plano de reflexión, relacionado\n",
    "\n",
    "## Hexágonal Primitivo (P6_422)\n",
    "- **P:** Indica que la celda unitaria es primitiva\n",
    "- **6:** Describe un eje de rotación helicoidal con un orden de rotación 6\n",
    "- **2:** indica que hay un eje de rotación de orden 2 perpendicular al eje de simetría principal del cristal\n",
    "- **2:** El segundo también indica la presenica de otro eje de rotación de orden 2, pero en una dirección diferente.\n",
    "\n",
    "## Ortorómbico Primitivo (Pnnm)\n",
    "- **P:** Indica que la celda unida de es primitiva.\n",
    "- **nn** La primera \"n\" representa un plano de deslizamiento perpendicular a uno de los ejes cristalográficos, la segunda \"n\" representa otro plano de deslizamiento perpendicular a un eje cristalografico diferente.\n",
    "- **m:** indica la presencia de un plano de relfexión perpendicular al tercer eje cristalográfico.\n",
    "\n",
    "## Ortorómbico Centrado en la Cara (Fmmm)\n",
    "- **F:** indica que la celda unidad es centrada en las caras.\n",
    "- **m:** representa un plano de relfexión perpendicular a uno de los ejes cristalográficos principales.\n",
    "- **m:** indica la presencia de un plano de reflexión perpendicular a otro de los ejes cristalográficos\n",
    "- **m:** representa un plano de reflexión perpendicular al tercer eje cristalográfico.\n",
    "\n",
    "## Ortorómbico Centrado en el Cuerpo (Immm)\n",
    "- **I:** indica que la celda unidad es centrada en el cuerpo\n",
    "- **m:** representa un plano de relfexión perpendicular a uno de los ejes cristalográficos principales.\n",
    "- **m:** indica la presencia de un plano de reflexión perpendicular a otro de los ejes cristalográficos\n",
    "- **m:** representa un plano de reflexión perpendicular al tercer eje cristalográfico.\n",
    "\n",
    "## Ortorómbico Centrado en la Base (Cmce)\n",
    "- **C:** Indica que la celda unidad es centrada en la base.\n",
    "- **m:** Representa un plano de reflexión prependicular a uno de los ejes cristalográficos principlaes\n",
    "- **c:** Indica la presencia de un plano de deslizamiento perpendicular a otro de los ejes cristalográficos\n",
    "- **e:** Representa otro tipo de plano de deslizamiento, pero este es un plano de deslizacmiento doble ("
   ]
  },
  {
   "cell_type": "markdown",
   "id": "79a54b4c-484a-4132-b0f0-468f7aa5cf96",
   "metadata": {},
   "source": [
    "# Punto 5\n",
    "\n",
    "## Aplicaciones para el Wolframio (W)\n",
    "- **Acero de alta velocidad:** El wolfraimo se alea con el acero para mejorar su dureza y resistencia al desgaste, lo que lo hace ideal para herramientas de corte como broca, fresas y sierras.\n",
    "\n",
    "- **Soldadura:** Los electrodods de wolframio se utilizan en la soldadura por arco debido a su alta temperatura de fusión y estabilidad.\n",
    "\n",
    "## Aplicaciones para el Azufre (S)\n",
    "- **Fertilizantes:** El azufre se utiliza como fungicida para controlar enfermedades de las plantas causadas por hongos.\n",
    "\n",
    "- **Producción de ácido sulfúrico:** El uso más importante del azufre es como materia prima para la fabricación de ácido sulfúrico, un compuesto químico fundamental en la producción de fertilizantes, detergentes, plásticos, baterías y muchos otros productos.\n",
    "\n",
    "*en la tabla tengo 3 redes con el Wolframio y 4 redes con el azufre*"
   ]
  },
  {
   "cell_type": "code",
   "execution_count": null,
   "id": "5a846f60",
   "metadata": {},
   "outputs": [],
   "source": []
  }
 ],
 "metadata": {
  "kernelspec": {
   "display_name": "python quimica1",
   "language": "python",
   "name": "quimica1"
  },
  "language_info": {
   "codemirror_mode": {
    "name": "ipython",
    "version": 3
   },
   "file_extension": ".py",
   "mimetype": "text/x-python",
   "name": "python",
   "nbconvert_exporter": "python",
   "pygments_lexer": "ipython3",
   "version": "3.12.3"
  }
 },
 "nbformat": 4,
 "nbformat_minor": 5
}
